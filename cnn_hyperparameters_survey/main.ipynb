{
 "cells": [
  {
   "cell_type": "code",
   "execution_count": 2,
   "metadata": {},
   "outputs": [],
   "source": [
    "import numpy as np"
   ]
  },
  {
   "cell_type": "code",
   "execution_count": 319,
   "metadata": {},
   "outputs": [],
   "source": [
    "class OnlineHistCounter():\n",
    "    def __init__(self, bin_num=1000):\n",
    "        self.bin_num = bin_num\n",
    "        self.bins = None\n",
    "        self.hist = None\n",
    "        self.eps = 1e6\n",
    "        self.bound = (-10, 10)\n",
    "\n",
    "    def append(self, arr: np.ndarray):\n",
    "        if self.bins is None:\n",
    "            self.hist, self.bins = np.histogram(arr, self.bin_num, range=self.bound)\n",
    "            return\n",
    "        \n",
    "        # if  min(arr) < self.bins[0] or self.bins[-1] < max(arr):\n",
    "        #     bound = (min(min(arr), self.bins[0]), max(self.bins[-1], max(arr)))\n",
    "        #     new_hist, new_bins = np.histogram(arr, self.bin_num)\n",
    "        #     new_cntrs = new_bins[:-1]\n",
    "        #     new_cntrs[:-1] += (new_bins[1] - new_bins[0]) / 2  - self.eps\n",
    "        #     new_cntrs[-1] += (new_bins[1] - new_bins[0]) / (2)\n",
    "\n",
    "        #     old_cntrs = self.bins[:-1] \n",
    "        #     old_cntrs[:-1] += (self.bins[1] - self.bins[0]) / 2 -  self.eps\n",
    "        #     old_cntrs[-1] += (self.bins[1] - self.bins[0]) / (2)\n",
    "\n",
    "        #     union_cntrs = np.concatenate([new_cntrs, old_cntrs])\n",
    "        #     union_hist = np.concatenate([new_hist, self.hist])\n",
    "\n",
    "        #     self.hist, self.bins = np.histogram(union_cntrs,\n",
    "        #                                         bins=self.bin_num,\n",
    "        #                                         weights=union_hist,\n",
    "        #                                         # range=bound\n",
    "        #                                         )\n",
    "        #     return\n",
    "        \n",
    "        self.hist += np.histogram(arr, self.bins, range=self.bound)[0]"
   ]
  },
  {
   "cell_type": "code",
   "execution_count": 320,
   "metadata": {},
   "outputs": [],
   "source": [
    "import matplotlib.pyplot as plt"
   ]
  },
  {
   "cell_type": "code",
   "execution_count": 321,
   "metadata": {},
   "outputs": [],
   "source": [
    "h = OnlineHistCounter(50)\n",
    "a = []\n",
    "for i in range(1000):\n",
    "    b = np.random.normal(size=20).tolist()\n",
    "    a += b\n",
    "    h.append(b)"
   ]
  },
  {
   "cell_type": "code",
   "execution_count": 322,
   "metadata": {},
   "outputs": [
    {
     "data": {
      "image/png": "[encoded data removed]",
      "text/plain": [
       "<Figure size 432x288 with 1 Axes>"
      ]
     },
     "metadata": {
      "needs_background": "light"
     },
     "output_type": "display_data"
    }
   ],
   "source": [
    "plt.hist(a, bins=50)\n",
    "plt.show()"
   ]
  },
  {
   "cell_type": "code",
   "execution_count": 338,
   "metadata": {},
   "outputs": [
    {
     "data": {
      "text/plain": [
       "(0, 34)"
      ]
     },
     "execution_count": 338,
     "metadata": {},
     "output_type": "execute_result"
    }
   ],
   "source": [
    "cs = np.cumsum(h.hist)\n",
    "l = np.searchsorted(cs, np.percentile(cs, 1, interpolation=\"higher\"))\n",
    "r = np.searchsorted(cs, np.percentile(cs, 99))\n",
    "l, r"
   ]
  },
  {
   "cell_type": "code",
   "execution_count": 342,
   "metadata": {},
   "outputs": [
    {
     "data": {
      "text/plain": [
       "(array([2], dtype=int64), array([-1,  2]))"
      ]
     },
     "execution_count": 342,
     "metadata": {},
     "output_type": "execute_result"
    }
   ],
   "source": [
    "np.histogram([1, 1.5, 33], bins=[-1, 2])"
   ]
  },
  {
   "cell_type": "code",
   "execution_count": 343,
   "metadata": {},
   "outputs": [
    {
     "data": {
      "text/plain": [
       "'d'"
      ]
     },
     "execution_count": 343,
     "metadata": {},
     "output_type": "execute_result"
    }
   ],
   "source": [
    "str(\"d\")"
   ]
  },
  {
   "cell_type": "code",
   "execution_count": 328,
   "metadata": {},
   "outputs": [
    {
     "ename": "TypeError",
     "evalue": "bar() missing 1 required positional argument: 'x'",
     "output_type": "error",
     "traceback": [
      "\u001b[1;31m---------------------------------------------------------------------------\u001b[0m",
      "\u001b[1;31mTypeError\u001b[0m                                 Traceback (most recent call last)",
      "\u001b[1;32mC:\\Users\\pasha\\AppData\\Local\\Temp/ipykernel_7612/789462599.py\u001b[0m in \u001b[0;36m<module>\u001b[1;34m\u001b[0m\n\u001b[1;32m----> 1\u001b[1;33m \u001b[0mplt\u001b[0m\u001b[1;33m.\u001b[0m\u001b[0mbar\u001b[0m\u001b[1;33m(\u001b[0m\u001b[0mheight\u001b[0m\u001b[1;33m=\u001b[0m\u001b[0mh\u001b[0m\u001b[1;33m.\u001b[0m\u001b[0mhist\u001b[0m\u001b[1;33m[\u001b[0m\u001b[0ml\u001b[0m\u001b[1;33m:\u001b[0m\u001b[0mr\u001b[0m\u001b[1;33m]\u001b[0m\u001b[1;33m,\u001b[0m \u001b[0mwidth\u001b[0m\u001b[1;33m=\u001b[0m\u001b[0mnp\u001b[0m\u001b[1;33m.\u001b[0m\u001b[0mdiff\u001b[0m\u001b[1;33m(\u001b[0m\u001b[0mh\u001b[0m\u001b[1;33m.\u001b[0m\u001b[0mbins\u001b[0m\u001b[1;33m)\u001b[0m\u001b[1;33m)\u001b[0m\u001b[1;33m\u001b[0m\u001b[1;33m\u001b[0m\u001b[0m\n\u001b[0m",
      "\u001b[1;31mTypeError\u001b[0m: bar() missing 1 required positional argument: 'x'"
     ]
    }
   ],
   "source": [
    "plt.bar(x=h.bins[:-1][l:r], height=h.hist[l:r], width=np.diff(h.bins))\n"
   ]
  },
  {
   "cell_type": "code",
   "execution_count": 317,
   "metadata": {},
   "outputs": [
    {
     "data": {
      "text/plain": [
       "20000"
      ]
     },
     "execution_count": 317,
     "metadata": {},
     "output_type": "execute_result"
    }
   ],
   "source": [
    "len(a)"
   ]
  },
  {
   "cell_type": "code",
   "execution_count": 318,
   "metadata": {},
   "outputs": [
    {
     "data": {
      "text/plain": [
       "19998"
      ]
     },
     "execution_count": 318,
     "metadata": {},
     "output_type": "execute_result"
    }
   ],
   "source": [
    "sum(h.hist)"
   ]
  },
  {
   "cell_type": "code",
   "execution_count": null,
   "metadata": {},
   "outputs": [],
   "source": []
  }
 ],
 "metadata": {
  "interpreter": {
   "hash": "c58e9361bde7ca617934da376e83056db506761bdc9593ca2087fabac973f609"
  },
  "kernelspec": {
   "display_name": "Python 3.7.11 ('ml')",
   "language": "python",
   "name": "python3"
  },
  "language_info": {
   "codemirror_mode": {
    "name": "ipython",
    "version": 3
   },
   "file_extension": ".py",
   "mimetype": "text/x-python",
   "name": "python",
   "nbconvert_exporter": "python",
   "pygments_lexer": "ipython3",
   "version": "3.7.11"
  },
  "orig_nbformat": 4
 },
 "nbformat": 4,
 "nbformat_minor": 2
}
