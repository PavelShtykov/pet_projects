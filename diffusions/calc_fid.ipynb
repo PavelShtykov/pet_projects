{
 "cells": [
  {
   "cell_type": "code",
   "execution_count": 1,
   "id": "199b716a",
   "metadata": {},
   "outputs": [],
   "source": [
    "import torch\n",
    "import numpy as np\n",
    "\n",
    "from skimage.io import imread, imsave\n",
    "from tqdm.auto import trange, tqdm\n",
    "from torchvision.datasets import MNIST\n",
    "from torchvision.transforms import Compose, Resize\n",
    "from pytorch_fid import fid_score\n",
    "\n",
    "from data_generator import DataGenerator\n",
    "from default_mnist_config import create_default_mnist_config\n",
    "from diffusion import DiffusionRunner\n",
    "from models.classifier import ResNet, ResidualBlock, ConditionalResNet\n",
    "\n",
    "from matplotlib import pyplot as plt\n",
    "\n",
    "import os\n",
    "\n",
    "os.environ['CUDA_VISIBLE_DEVICES'] = '0'"
   ]
  },
  {
   "cell_type": "code",
   "execution_count": 2,
   "id": "ab069543",
   "metadata": {},
   "outputs": [
    {
     "name": "stdout",
     "output_type": "stream",
     "text": [
      "/home/pasha/ml/mmp/neuralbayes/n4\n"
     ]
    }
   ],
   "source": [
    "%cd .."
   ]
  },
  {
   "cell_type": "code",
   "execution_count": 3,
   "id": "5def5c68",
   "metadata": {},
   "outputs": [],
   "source": [
    "def create_dir(path: str):\n",
    "    if not os.path.exists(path):\n",
    "        os.makedirs(path)"
   ]
  },
  {
   "cell_type": "code",
   "execution_count": 4,
   "id": "72e67beb",
   "metadata": {},
   "outputs": [
    {
     "data": {
      "application/vnd.jupyter.widget-view+json": {
       "model_id": "7889637cf9a0463baf49e35e92cb5082",
       "version_major": 2,
       "version_minor": 0
      },
      "text/plain": [
       "  0%|          | 0/60000 [00:00<?, ?it/s]"
      ]
     },
     "metadata": {},
     "output_type": "display_data"
    }
   ],
   "source": [
    "create_dir('./real_images_MNIST')\n",
    "\n",
    "real_dataset = MNIST(root='./data', download=True, train=True, transform=Compose([Resize((32, 32))]))\n",
    "for idx, (image_mnist, label) in enumerate(tqdm(real_dataset, total=len(real_dataset))):\n",
    "    image = np.array(image_mnist)\n",
    "    imsave(\"./real_images_MNIST/{}.png\".format(idx), image)"
   ]
  },
  {
   "cell_type": "markdown",
   "id": "fabbea8d",
   "metadata": {},
   "source": [
    "#### Определим папку для синтетических картинок и сгенерируем 60к картинок"
   ]
  },
  {
   "attachments": {},
   "cell_type": "markdown",
   "id": "477e00cf",
   "metadata": {},
   "source": [
    "##### Безуслованя генерация"
   ]
  },
  {
   "cell_type": "code",
   "execution_count": 5,
   "id": "c0538815",
   "metadata": {},
   "outputs": [],
   "source": [
    "uncond_diff = DiffusionRunner(create_default_mnist_config(), eval=True)"
   ]
  },
  {
   "cell_type": "code",
   "execution_count": 8,
   "id": "5dd28b16",
   "metadata": {},
   "outputs": [
    {
     "data": {
      "application/vnd.jupyter.widget-view+json": {
       "model_id": "ce87c0e44c1f442496fe122b5c9a0155",
       "version_major": 2,
       "version_minor": 0
      },
      "text/plain": [
       "  0%|          | 0/50 [00:00<?, ?it/s]"
      ]
     },
     "metadata": {},
     "output_type": "display_data"
    },
    {
     "name": "stderr",
     "output_type": "stream",
     "text": [
      "<ipython-input-8-b9201b8b90fb>:13: UserWarning: ./uncond_mnist/1261.png is a low contrast image\n",
      "  imsave(os.path.join('./uncond_mnist', f'{global_idx}.png'), images[i])\n",
      "<ipython-input-8-b9201b8b90fb>:13: UserWarning: ./uncond_mnist/1866.png is a low contrast image\n",
      "  imsave(os.path.join('./uncond_mnist', f'{global_idx}.png'), images[i])\n",
      "<ipython-input-8-b9201b8b90fb>:13: UserWarning: ./uncond_mnist/2435.png is a low contrast image\n",
      "  imsave(os.path.join('./uncond_mnist', f'{global_idx}.png'), images[i])\n",
      "<ipython-input-8-b9201b8b90fb>:13: UserWarning: ./uncond_mnist/6086.png is a low contrast image\n",
      "  imsave(os.path.join('./uncond_mnist', f'{global_idx}.png'), images[i])\n"
     ]
    }
   ],
   "source": [
    "create_dir('./uncond_mnist')\n",
    "\n",
    "TOTAL_IMAGES_COUNT = 10_000\n",
    "BATCH_SIZE = 200\n",
    "NUM_ITERS = TOTAL_IMAGES_COUNT // BATCH_SIZE\n",
    "\n",
    "global_idx = 0\n",
    "for idx in trange(NUM_ITERS):\n",
    "    images: torch.Tensor = uncond_diff.sample_images(batch_size=BATCH_SIZE).cpu()\n",
    "    images = images.permute(0, 2, 3, 1).data.numpy().astype(np.uint8)\n",
    "\n",
    "    for i in range(len(images)):\n",
    "        imsave(os.path.join('./uncond_mnist', f'{global_idx}.png'), images[i])\n",
    "        global_idx += 1"
   ]
  },
  {
   "cell_type": "code",
   "execution_count": 10,
   "id": "7ae0649a",
   "metadata": {},
   "outputs": [
    {
     "name": "stderr",
     "output_type": "stream",
     "text": [
      "Downloading: \"https://github.com/mseitzer/pytorch-fid/releases/download/fid_weights/pt_inception-2015-12-05-6726825d.pth\" to /home/pasha/.cache/torch/hub/checkpoints/pt_inception-2015-12-05-6726825d.pth\n"
     ]
    },
    {
     "data": {
      "application/vnd.jupyter.widget-view+json": {
       "model_id": "5915850a64d447288782b3842c1cc544",
       "version_major": 2,
       "version_minor": 0
      },
      "text/plain": [
       "  0%|          | 0.00/91.2M [00:00<?, ?B/s]"
      ]
     },
     "metadata": {},
     "output_type": "display_data"
    },
    {
     "name": "stderr",
     "output_type": "stream",
     "text": [
      "100%|██████████| 300/300 [01:00<00:00,  4.96it/s]\n",
      "100%|██████████| 50/50 [00:10<00:00,  4.82it/s]\n"
     ]
    },
    {
     "data": {
      "text/plain": [
       "118.81341380857594"
      ]
     },
     "execution_count": 10,
     "metadata": {},
     "output_type": "execute_result"
    }
   ],
   "source": [
    "fid_value = fid_score.calculate_fid_given_paths(\n",
    "    paths=['./real_images_MNIST', './uncond_mnist'],\n",
    "    batch_size=200,\n",
    "    device='cuda:0',\n",
    "    dims=2048\n",
    ")\n",
    "fid_value"
   ]
  },
  {
   "attachments": {},
   "cell_type": "markdown",
   "id": "f3fd32e4",
   "metadata": {},
   "source": [
    "##### Условная генерация"
   ]
  },
  {
   "cell_type": "code",
   "execution_count": 11,
   "id": "4bb605d0",
   "metadata": {},
   "outputs": [],
   "source": [
    "device = torch.device('cuda')\n",
    "classifier_args = {\n",
    "    \"block\": ResidualBlock,\n",
    "    \"layers\": [2, 2, 2, 2]\n",
    "}\n",
    "noisy_classifier = ConditionalResNet(**classifier_args)\n",
    "noisy_classifier.to(device)\n",
    "\n",
    "noisy_classifier.load_state_dict(torch.load('./ddpm_checkpoints/classifier_1.pth'))\n",
    "\n",
    "conditional_diffusion = DiffusionRunner(create_default_mnist_config(), eval=True)\n",
    "conditional_diffusion.set_classifier(noisy_classifier, T=0.25)"
   ]
  },
  {
   "cell_type": "code",
   "execution_count": 12,
   "id": "8320e6d9",
   "metadata": {},
   "outputs": [
    {
     "data": {
      "application/vnd.jupyter.widget-view+json": {
       "model_id": "137f50175b4246c7aed97fe17cac4eb6",
       "version_major": 2,
       "version_minor": 0
      },
      "text/plain": [
       "  0%|          | 0/10 [00:00<?, ?it/s]"
      ]
     },
     "metadata": {},
     "output_type": "display_data"
    }
   ],
   "source": [
    "create_dir('./cond_mnist')\n",
    "\n",
    "TOTAL_IMAGES_COUNT = 10_000\n",
    "BATCH_SIZE = 1_000\n",
    "NUM_ITERS = TOTAL_IMAGES_COUNT // BATCH_SIZE\n",
    "\n",
    "global_idx = 0\n",
    "for idx in trange(NUM_ITERS):\n",
    "    labels = idx * torch.ones(100, dtype=torch.long).to(device)\n",
    "\n",
    "    images: torch.Tensor = uncond_diff.sample_images(batch_size=BATCH_SIZE, labels=labels).cpu()\n",
    "    images = images.permute(0, 2, 3, 1).data.numpy().astype(np.uint8)\n",
    "\n",
    "    for i in range(len(images)):\n",
    "        imsave(os.path.join('./cond_mnist', f'{global_idx}.png'), images[i])\n",
    "        global_idx += 1"
   ]
  },
  {
   "cell_type": "code",
   "execution_count": 13,
   "id": "a95deeef",
   "metadata": {},
   "outputs": [
    {
     "name": "stderr",
     "output_type": "stream",
     "text": [
      "100%|██████████| 300/300 [01:00<00:00,  4.93it/s]\n",
      "100%|██████████| 5/5 [00:01<00:00,  4.41it/s]\n"
     ]
    },
    {
     "data": {
      "text/plain": [
       "125.28347629120378"
      ]
     },
     "execution_count": 13,
     "metadata": {},
     "output_type": "execute_result"
    }
   ],
   "source": [
    "fid_value = fid_score.calculate_fid_given_paths(\n",
    "    paths=['./real_images_MNIST', './cond_mnist'],\n",
    "    batch_size=200,\n",
    "    device=device,\n",
    "    dims=2048\n",
    ")\n",
    "fid_value"
   ]
  },
  {
   "attachments": {},
   "cell_type": "markdown",
   "id": "525ea8ea",
   "metadata": {},
   "source": [
    "> Какой фид получился? Сравните FID для безусловной генерации и для условной. Сгенерируйте для каждого класса по 6к картинок и посчитайте FID между реальными и условно сгенерированными картинками.\n",
    "\n",
    "При безусловной генерации FID = 118, при условной 125. Качество сравнимое но при условной генерации все таки хуже. В целом FID для MNIST нормальный."
   ]
  }
 ],
 "metadata": {
  "kernelspec": {
   "display_name": "Python 3 (ipykernel)",
   "language": "python",
   "name": "python3"
  },
  "language_info": {
   "codemirror_mode": {
    "name": "ipython",
    "version": 3
   },
   "file_extension": ".py",
   "mimetype": "text/x-python",
   "name": "python",
   "nbconvert_exporter": "python",
   "pygments_lexer": "ipython3",
   "version": "3.9.16"
  }
 },
 "nbformat": 4,
 "nbformat_minor": 5
}
